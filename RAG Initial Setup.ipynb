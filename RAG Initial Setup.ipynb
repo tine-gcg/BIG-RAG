{
 "cells": [
  {
   "cell_type": "code",
   "execution_count": null,
   "id": "d83267b8-e163-491f-aee8-78dcc663e7a2",
   "metadata": {},
   "outputs": [],
   "source": [
    "import pandas as pd\n",
    "from openai import OpenAI\n",
    "import os\n",
    "import ast\n",
    "import numpy as np\n",
    "import pdb\n",
    "\n",
    "# gawing Mistral\n",
    "client = OpenAI()\n"
   ]
  },
  {
   "cell_type": "code",
   "execution_count": 3,
   "id": "5a3fd6bb-ea4d-4542-a83a-0fa54abb6d9d",
   "metadata": {
    "scrolled": true
   },
   "outputs": [
    {
     "name": "stdout",
     "output_type": "stream",
     "text": [
      "Collecting mistralai\n",
      "  Downloading mistralai-1.5.1-py3-none-any.whl.metadata (29 kB)\n",
      "Collecting eval-type-backport>=0.2.0 (from mistralai)\n",
      "  Downloading eval_type_backport-0.2.2-py3-none-any.whl.metadata (2.2 kB)\n",
      "Requirement already satisfied: httpx>=0.27.0 in c:\\users\\christine.delosreyes\\appdata\\local\\anaconda3\\lib\\site-packages (from mistralai) (0.27.0)\n",
      "Collecting jsonpath-python>=1.0.6 (from mistralai)\n",
      "  Downloading jsonpath_python-1.0.6-py3-none-any.whl.metadata (12 kB)\n",
      "Collecting pydantic>=2.9.0 (from mistralai)\n",
      "  Using cached pydantic-2.10.6-py3-none-any.whl.metadata (30 kB)\n",
      "Requirement already satisfied: python-dateutil>=2.8.2 in c:\\users\\christine.delosreyes\\appdata\\local\\anaconda3\\lib\\site-packages (from mistralai) (2.9.0.post0)\n",
      "Collecting typing-inspect>=0.9.0 (from mistralai)\n",
      "  Downloading typing_inspect-0.9.0-py3-none-any.whl.metadata (1.5 kB)\n",
      "Requirement already satisfied: anyio in c:\\users\\christine.delosreyes\\appdata\\local\\anaconda3\\lib\\site-packages (from httpx>=0.27.0->mistralai) (4.2.0)\n",
      "Requirement already satisfied: certifi in c:\\users\\christine.delosreyes\\appdata\\local\\anaconda3\\lib\\site-packages (from httpx>=0.27.0->mistralai) (2024.8.30)\n",
      "Requirement already satisfied: httpcore==1.* in c:\\users\\christine.delosreyes\\appdata\\local\\anaconda3\\lib\\site-packages (from httpx>=0.27.0->mistralai) (1.0.2)\n",
      "Requirement already satisfied: idna in c:\\users\\christine.delosreyes\\appdata\\local\\anaconda3\\lib\\site-packages (from httpx>=0.27.0->mistralai) (3.7)\n",
      "Requirement already satisfied: sniffio in c:\\users\\christine.delosreyes\\appdata\\local\\anaconda3\\lib\\site-packages (from httpx>=0.27.0->mistralai) (1.3.0)\n",
      "Requirement already satisfied: h11<0.15,>=0.13 in c:\\users\\christine.delosreyes\\appdata\\local\\anaconda3\\lib\\site-packages (from httpcore==1.*->httpx>=0.27.0->mistralai) (0.14.0)\n",
      "Requirement already satisfied: annotated-types>=0.6.0 in c:\\users\\christine.delosreyes\\appdata\\local\\anaconda3\\lib\\site-packages (from pydantic>=2.9.0->mistralai) (0.6.0)\n",
      "Collecting pydantic-core==2.27.2 (from pydantic>=2.9.0->mistralai)\n",
      "  Using cached pydantic_core-2.27.2-cp312-cp312-win_amd64.whl.metadata (6.7 kB)\n",
      "Collecting typing-extensions>=4.12.2 (from pydantic>=2.9.0->mistralai)\n",
      "  Using cached typing_extensions-4.12.2-py3-none-any.whl.metadata (3.0 kB)\n",
      "Requirement already satisfied: six>=1.5 in c:\\users\\christine.delosreyes\\appdata\\local\\anaconda3\\lib\\site-packages (from python-dateutil>=2.8.2->mistralai) (1.16.0)\n",
      "Requirement already satisfied: mypy-extensions>=0.3.0 in c:\\users\\christine.delosreyes\\appdata\\local\\anaconda3\\lib\\site-packages (from typing-inspect>=0.9.0->mistralai) (1.0.0)\n",
      "Downloading mistralai-1.5.1-py3-none-any.whl (278 kB)\n",
      "Downloading eval_type_backport-0.2.2-py3-none-any.whl (5.8 kB)\n",
      "Downloading jsonpath_python-1.0.6-py3-none-any.whl (7.6 kB)\n",
      "Using cached pydantic-2.10.6-py3-none-any.whl (431 kB)\n",
      "Using cached pydantic_core-2.27.2-cp312-cp312-win_amd64.whl (2.0 MB)\n",
      "Downloading typing_inspect-0.9.0-py3-none-any.whl (8.8 kB)\n",
      "Using cached typing_extensions-4.12.2-py3-none-any.whl (37 kB)\n",
      "Installing collected packages: typing-extensions, jsonpath-python, eval-type-backport, typing-inspect, pydantic-core, pydantic, mistralai\n",
      "  Attempting uninstall: typing-extensions\n",
      "    Found existing installation: typing_extensions 4.11.0\n",
      "    Uninstalling typing_extensions-4.11.0:\n",
      "      Successfully uninstalled typing_extensions-4.11.0\n",
      "  Attempting uninstall: pydantic-core\n",
      "    Found existing installation: pydantic_core 2.14.6\n",
      "    Uninstalling pydantic_core-2.14.6:\n",
      "      Successfully uninstalled pydantic_core-2.14.6\n",
      "  Attempting uninstall: pydantic\n",
      "    Found existing installation: pydantic 2.5.3\n",
      "    Uninstalling pydantic-2.5.3:\n",
      "      Successfully uninstalled pydantic-2.5.3\n",
      "Successfully installed eval-type-backport-0.2.2 jsonpath-python-1.0.6 mistralai-1.5.1 pydantic-2.10.6 pydantic-core-2.27.2 typing-extensions-4.12.2 typing-inspect-0.9.0\n",
      "Note: you may need to restart the kernel to use updated packages.\n"
     ]
    }
   ],
   "source": [
    "pip install mistralai"
   ]
  },
  {
   "cell_type": "code",
   "execution_count": 3,
   "id": "5915d051-ad8a-48ba-8d2e-950940774383",
   "metadata": {},
   "outputs": [],
   "source": [
    "import os\n",
    "from mistralai import Mistral\n",
    "\n",
    "# api_key = os.environ[\"O4e1b9oH2JWt73oJI2sUzGzfS47bfhr0\"]\n",
    "api_key = \"O4e1b9oH2JWt73oJI2sUzGzfS47bfhr0\"\n",
    "model = \"mistral-embed\"\n",
    "\n",
    "client = Mistral(api_key=api_key)\n",
    "\n",
    "embeddings_batch_response = client.embeddings.create(\n",
    "    model=model,\n",
    "    inputs=[\"Embed this sentence.\", \"As well as this one.\"],\n",
    ")"
   ]
  },
  {
   "cell_type": "code",
   "execution_count": 5,
   "id": "555a54f3-cb03-4ae0-9aa9-afbcb90ea7b4",
   "metadata": {},
   "outputs": [],
   "source": [
    "def get_text_embedding(inputs):\n",
    "    embeddings_batch_response = client.embeddings.create(\n",
    "        model=model,\n",
    "        inputs=inputs\n",
    "    )\n",
    "    return embeddings_batch_response.data[0].embedding"
   ]
  },
  {
   "cell_type": "code",
   "execution_count": null,
   "id": "e41b4e6e-9561-45bf-ae33-8272242ebffd",
   "metadata": {},
   "outputs": [],
   "source": []
  }
 ],
 "metadata": {
  "kernelspec": {
   "display_name": "Python 3 (ipykernel)",
   "language": "python",
   "name": "python3"
  },
  "language_info": {
   "codemirror_mode": {
    "name": "ipython",
    "version": 3
   },
   "file_extension": ".py",
   "mimetype": "text/x-python",
   "name": "python",
   "nbconvert_exporter": "python",
   "pygments_lexer": "ipython3",
   "version": "3.12.4"
  }
 },
 "nbformat": 4,
 "nbformat_minor": 5
}
